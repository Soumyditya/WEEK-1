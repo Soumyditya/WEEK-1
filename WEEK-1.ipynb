{
  "nbformat": 4,
  "nbformat_minor": 0,
  "metadata": {
    "colab": {
      "provenance": []
    },
    "kernelspec": {
      "name": "python3",
      "display_name": "Python 3"
    },
    "language_info": {
      "name": "python"
    }
  },
  "cells": [
    {
      "cell_type": "code",
      "source": [
        "import numpy as np\n",
        "import pandas as pd\n",
        "import matplotlib.pyplot as plt\n",
        "import cv2\n",
        "from tqdm import tqdm\n",
        "import warnings\n",
        "warnings.filterwarning('ignore')\n",
        "\n",
        "train_path = \"dataset/TRAIN\"\n",
        "test_path = \"dataset/TEST\"\n",
        "\n",
        "from tensorflow.keras.models import Sequential\n",
        "from tensorflow.keras.layers import Conv2D, MaxPooling2D, Activation, Dropout, Flatten, Dense, BatchNormalization\n",
        "from tensorflow.keras.preprocessing.image import ImageDataGenerator, img_to_array, load_img\n",
        "from tensorflow.keras.utils import plot_model\n",
        "from glob import glob\n",
        "\n",
        "#visualization\n",
        "x_data = []\n",
        "y_data = []\n",
        "for category in glob(train_path+\"/*\"):\n",
        "    for file in tqdm(glob(category+\"/*\")):\n",
        "        img_array = cv2.imread(file)\n",
        "        img_array = cv2.cvtColor(img_array,cv2.COLOR_BGR2RGB)\n",
        "        x_data.append(img_array)\n",
        "        y_data.append(category.split('/')[-1])\n",
        "data = pd.DataFrame({'image':x_data,\"label\":y_data})\n",
        "\n",
        "data.shape()\n",
        "\n",
        "colors = [\"#a0d157\", \"#c48bb8\"]\n",
        "plt.pie(data.label.value_counts(), labels = [\"Organic\",\"Recyclable\"], autopct = '%0.2f%%', colors = colors, startangle = 90, explode = [0.05, 0.05] ) #explode is optional\n",
        "plt.show()\n",
        "\n"
      ],
      "metadata": {
        "id": "j6siKHSDWRW8"
      },
      "execution_count": null,
      "outputs": []
    }
  ]
}